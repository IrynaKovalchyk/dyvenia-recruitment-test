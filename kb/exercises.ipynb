{
 "cells": [
  {
   "cell_type": "markdown",
   "id": "3351efc8",
   "metadata": {},
   "source": [
    "# Exercise 1.\n"
   ]
  },
  {
   "cell_type": "markdown",
   "id": "def315fe",
   "metadata": {},
   "source": [
    "Create a method `bark` for class `Dog`, which prints out `Woof!`. The amount of 'woofs' depends on the dog size.\n",
    "Example:\n",
    "\n",
    "Object of class `Dog` has a parameter size set to 5. <br>\n",
    "the outcome of `woof` method would be: <br>\n",
    "Woof! Woof! Woof! Woof! Woof!"
   ]
  },
  {
   "cell_type": "code",
   "execution_count": 2,
   "id": "8970557b",
   "metadata": {},
   "outputs": [],
   "source": [
    "class Dog:\n",
    "    def __init__(self, size):\n",
    "        self.size = size"
   ]
  },
  {
   "cell_type": "code",
   "execution_count": 3,
   "id": "cbe01f8e",
   "metadata": {},
   "outputs": [],
   "source": [
    "dog = Dog(5)"
   ]
  },
  {
   "cell_type": "markdown",
   "id": "df9a76b1",
   "metadata": {},
   "source": [
    "# Exercise 2."
   ]
  },
  {
   "cell_type": "markdown",
   "id": "0a78028a",
   "metadata": {},
   "source": [
    "Create a class `Puppy` which inherits from the `Dog` class. It should inherit the Constructor class and overload a `woof` method."
   ]
  },
  {
   "cell_type": "code",
   "execution_count": null,
   "id": "169556ab",
   "metadata": {},
   "outputs": [],
   "source": []
  },
  {
   "cell_type": "code",
   "execution_count": null,
   "id": "8dcb0e83",
   "metadata": {},
   "outputs": [],
   "source": []
  },
  {
   "cell_type": "markdown",
   "id": "b3e80e76",
   "metadata": {},
   "source": [
    "# Exercise 3."
   ]
  },
  {
   "cell_type": "markdown",
   "id": "21ba938a",
   "metadata": {},
   "source": [
    "Write a query that prints everything from the Invoices table. If you can, change the type to pandas DataFrame."
   ]
  },
  {
   "cell_type": "code",
   "execution_count": 4,
   "id": "55d202e0",
   "metadata": {},
   "outputs": [],
   "source": [
    "import sqlite3 as lite\n",
    "import pandas as pd\n",
    "\n",
    "con = lite.connect('chinook.db')\n",
    "cur = con.cursor()\n",
    "\n",
    "\n",
    "# Write your query\n",
    "# sql = ...\n",
    "\n",
    "\n",
    "cur.execute(sql)\n",
    "cur.fetchall()"
   ]
  },
  {
   "cell_type": "markdown",
   "id": "aee965ff",
   "metadata": {},
   "source": [
    "# Exercise 4."
   ]
  },
  {
   "cell_type": "markdown",
   "id": "c0b62ab9",
   "metadata": {},
   "source": [
    "Write a query which returns maximum value from `Total` column."
   ]
  },
  {
   "cell_type": "code",
   "execution_count": 5,
   "id": "1d540b8f",
   "metadata": {},
   "outputs": [],
   "source": [
    "import sqlite3 as lite\n",
    "import pandas as pd\n",
    "\n",
    "con = lite.connect('chinook.db')\n",
    "cur = con.cursor()\n",
    "\n",
    "\n",
    "# Write your query\n",
    "# sql = ...\n",
    "\n",
    "cur.execute(sql)\n",
    "cur.fetchall()\n"
   ]
  },
  {
   "cell_type": "code",
   "execution_count": null,
   "id": "d139b41b",
   "metadata": {},
   "outputs": [],
   "source": []
  }
 ],
 "metadata": {
  "kernelspec": {
   "display_name": "Python 3 (ipykernel)",
   "language": "python",
   "name": "python3"
  },
  "language_info": {
   "codemirror_mode": {
    "name": "ipython",
    "version": 3
   },
   "file_extension": ".py",
   "mimetype": "text/x-python",
   "name": "python",
   "nbconvert_exporter": "python",
   "pygments_lexer": "ipython3",
   "version": "3.8.10"
  }
 },
 "nbformat": 4,
 "nbformat_minor": 5
}
