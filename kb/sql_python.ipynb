{
 "cells": [
  {
   "cell_type": "markdown",
   "metadata": {},
   "source": [
    "# Introduction\n",
    "\n",
    "We will solve exercises together using SQL and Python. \n",
    "You can use Google or other search engines.\n",
    "You have to finish at least one from each section, but the order of the tasks is up to you, do as many as you can.\n",
    "\n",
    "We will use the chinook database. Please check the database ERD model below:\n",
    "\n",
    "![img](https://www.sqlitetutorial.net/wp-content/uploads/2015/11/sqlite-sample-database-color.jpg)\n",
    "\n",
    "\n",
    "### Good luck!"
   ]
  },
  {
   "cell_type": "markdown",
   "metadata": {},
   "source": [
    "# SQL\n"
   ]
  },
  {
   "cell_type": "markdown",
   "metadata": {},
   "source": [
    "## Exercise 1.\n",
    "Extract all invoices from the database with SQL and Python."
   ]
  },
  {
   "cell_type": "code",
   "execution_count": 10,
   "metadata": {},
   "outputs": [],
   "source": [
    "# Write your code here"
   ]
  },
  {
   "cell_type": "markdown",
   "metadata": {},
   "source": [
    "## Exercise 2.\n",
    "Calculate sales by customer id using SQL and Python"
   ]
  },
  {
   "cell_type": "code",
   "execution_count": 11,
   "metadata": {},
   "outputs": [],
   "source": [
    "# Write your code here"
   ]
  },
  {
   "cell_type": "markdown",
   "metadata": {},
   "source": [
    "## Exercise 3.\n",
    "Find top 10 biggest customers by sales value using pandas dataframe"
   ]
  },
  {
   "cell_type": "code",
   "execution_count": 12,
   "metadata": {},
   "outputs": [],
   "source": [
    "# Write your code here"
   ]
  },
  {
   "cell_type": "markdown",
   "metadata": {},
   "source": [
    "# Functional Python"
   ]
  },
  {
   "cell_type": "markdown",
   "metadata": {},
   "source": [
    "# Exercise 1.\n",
    "## Building a method\n",
    "\n",
    "Create a function that will extract invoices based on a query from the database (The same functionality as exercise 1. in SQL section, but in python function)."
   ]
  },
  {
   "cell_type": "code",
   "execution_count": null,
   "metadata": {},
   "outputs": [],
   "source": [
    "# Write your code here"
   ]
  },
  {
   "cell_type": "markdown",
   "metadata": {},
   "source": [
    "# Exercise 2.\n",
    "## Lists\n",
    "\n",
    "We need the list of lists for Invoices table from Exercise 1 - one item contains all invoices and the Country it originated from.\n",
    "Implement a way list of lists.\n",
    "\n",
    "Example: <br>\n",
    "[ [[010, 011, 012], Germany], [[101, 102], Poland], [[324, 323], Norway], ... ]\n"
   ]
  },
  {
   "cell_type": "code",
   "execution_count": null,
   "metadata": {},
   "outputs": [],
   "source": [
    "# Write your code here"
   ]
  },
  {
   "cell_type": "markdown",
   "metadata": {},
   "source": [
    "# Exercise 3.\n",
    "## OrderedDict\n",
    "Based on the list of list from exercise 2., create an OrderedDict, where they key would be the country, and the values - a list of invoices."
   ]
  },
  {
   "cell_type": "code",
   "execution_count": null,
   "metadata": {},
   "outputs": [],
   "source": [
    "# Write your code here"
   ]
  },
  {
   "cell_type": "markdown",
   "metadata": {},
   "source": [
    "# Object-Oriented Python"
   ]
  },
  {
   "cell_type": "markdown",
   "metadata": {},
   "source": [
    "# Exercise 1. \n",
    "## Class methods\n",
    "\n",
    "What is `overloading` and `overriding` ? Can you `overload` in Python?\n",
    "\n"
   ]
  },
  {
   "cell_type": "markdown",
   "metadata": {},
   "source": [
    "Create a method `bark` for class `Dog`, which prints out `Woof!`. The amount of 'woofs' depends on the dog size.\n",
    "Example:\n",
    "\n",
    "Object of class `Dog` has a parameter size set to 5. <br>\n",
    "the outcome of `woof` method would be: <br>\n",
    "Woof! Woof! Woof! Woof! Woof!"
   ]
  },
  {
   "cell_type": "code",
   "execution_count": 7,
   "metadata": {},
   "outputs": [],
   "source": [
    "class Dog:\n",
    "    def __init__(self, size):\n",
    "        self.size = size\n",
    "    # Write your code here"
   ]
  },
  {
   "cell_type": "markdown",
   "metadata": {},
   "source": [
    "# Exercise 2.\n",
    "## Inheritance\n",
    "\n",
    "Create a class `Puppy` which inherits from the `Dog` class. Try overriding the `bark` method - a puppy should bark half as much.\n",
    "\n",
    "Example:\n",
    "\n",
    "doggie = Dog(2) <br>\n",
    "pupper = Puppy(2)\n",
    "\n",
    "doggie.bark() <br>\n",
    "    <i>Woof! Woof!</i>\n",
    "    \n",
    "pupper.bark() <br>\n",
    "    <i>Woof!</i>"
   ]
  },
  {
   "cell_type": "code",
   "execution_count": 8,
   "metadata": {},
   "outputs": [],
   "source": [
    "# Write your code here\n",
    "\n"
   ]
  },
  {
   "cell_type": "markdown",
   "metadata": {},
   "source": [
    "# Exercise 3.\n",
    "## Magic methods\n",
    "Edit the Dog class so that printing the class object will have the same result as `bark` method.\n",
    "\n",
    "Example:\n",
    "\n",
    "dog = Dog(4) <br>\n",
    "print(dog)<br>\n",
    "_Woof! Woof! Woof! Woof!_"
   ]
  },
  {
   "cell_type": "code",
   "execution_count": 25,
   "metadata": {},
   "outputs": [],
   "source": [
    "# Write your code here\n",
    "\n",
    "\n"
   ]
  },
  {
   "cell_type": "markdown",
   "metadata": {},
   "source": [
    "# Open"
   ]
  },
  {
   "cell_type": "markdown",
   "metadata": {},
   "source": [
    "Using `Faker` library, write a simple event generator.\n",
    "\n",
    "_Example features_\n",
    "1. We want to know the time of the event, type, who did it... and other useful information of your choice :)\n",
    "2. Add generating multiple events at once (for instance: 10 events)\n",
    "3. Add a frequency of those events (for instance: 1 event per second)\n",
    "4. Add a combination of 2. and 3. (for instance: 10 events per 1 second)\n",
    "5. Make some fields of events optional and the others mandatory\n",
    "\n",
    "What are events?\n",
    "\n",
    "Which information is most useful when working with events?\n",
    "\n",
    "What type of data can we expect when working with events?\n",
    "\n",
    "What is event streaming?\n",
    "\n",
    "WHat s event sourcing?\n",
    "\n",
    "\n",
    "Documentation:\n",
    "https://faker.readthedocs.io/en/master/"
   ]
  },
  {
   "cell_type": "code",
   "execution_count": 3,
   "metadata": {},
   "outputs": [],
   "source": [
    "# Write your code here\n",
    "\n",
    "\n",
    "\n"
   ]
  }
 ],
 "metadata": {
  "kernelspec": {
   "display_name": "Python 3 (ipykernel)",
   "language": "python",
   "name": "python3"
  },
  "language_info": {
   "codemirror_mode": {
    "name": "ipython",
    "version": 3
   },
   "file_extension": ".py",
   "mimetype": "text/x-python",
   "name": "python",
   "nbconvert_exporter": "python",
   "pygments_lexer": "ipython3",
   "version": "3.8.10"
  }
 },
 "nbformat": 4,
 "nbformat_minor": 2
}
