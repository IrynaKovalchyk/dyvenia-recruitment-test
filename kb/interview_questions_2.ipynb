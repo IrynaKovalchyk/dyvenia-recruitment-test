{
 "cells": [
  {
   "cell_type": "markdown",
   "id": "c1845a98-b891-482e-8112-e481f0e42a73",
   "metadata": {},
   "source": [
    "# Intermediate exercises"
   ]
  },
  {
   "cell_type": "markdown",
   "id": "99077f4f-ae73-4e46-8285-fc1acd76fa8b",
   "metadata": {},
   "source": [
    "## OOP\n",
    "Moving on, let's make this more intuitive for the user. Let's make it so that we can do `Square(a=2) < Square(a=3)`. Unhide the cell below for a hint."
   ]
  },
  {
   "cell_type": "markdown",
   "id": "7cebc60e-925c-4d35-b984-daa8b7665d6d",
   "metadata": {
    "tags": []
   },
   "source": [
    "### Input"
   ]
  },
  {
   "cell_type": "code",
   "execution_count": 13,
   "id": "fdb930d8-0c6f-4ea9-b9aa-bb4d3d50ea92",
   "metadata": {},
   "outputs": [],
   "source": [
    "class Square:\n",
    "    def __init__(self, a):\n",
    "        self.a = a\n",
    "        \n",
    "    def is_smaller(self, other):\n",
    "        return self.a < other.a\n",
    "\n",
    "    \n",
    "square_a = Square(a=2)\n",
    "square_b = Square(a=4)"
   ]
  },
  {
   "cell_type": "markdown",
   "id": "8c7018bb-9188-4a8a-869a-7b9bb2557a59",
   "metadata": {},
   "source": [
    "### Output"
   ]
  },
  {
   "cell_type": "code",
   "execution_count": 14,
   "id": "90ffe827-f8b5-4cbd-bfc6-c693a7009e33",
   "metadata": {},
   "outputs": [
    {
     "data": {
      "text/plain": [
       "True"
      ]
     },
     "execution_count": 14,
     "metadata": {},
     "output_type": "execute_result"
    }
   ],
   "source": [
    "square_a < square_b"
   ]
  },
  {
   "cell_type": "markdown",
   "id": "b0bbd849-f73d-485e-96b3-949d30c9739e",
   "metadata": {
    "tags": []
   },
   "source": [
    "### Solution"
   ]
  },
  {
   "cell_type": "code",
   "execution_count": null,
   "id": "47d4218e-bbb3-431b-a566-ff8f966330ea",
   "metadata": {},
   "outputs": [],
   "source": []
  },
  {
   "cell_type": "markdown",
   "id": "031b0bf7-b652-45fa-b1c8-d0ffa0d68bef",
   "metadata": {},
   "source": [
    "Unhide to see the hint:"
   ]
  },
  {
   "cell_type": "markdown",
   "id": "252452fd-d18d-4c85-bc21-32b114e8c18e",
   "metadata": {
    "jupyter": {
     "source_hidden": true
    },
    "tags": []
   },
   "source": [
    "<div class=\"alert alert-block alert-info\">Overload the `<` operator.</div>"
   ]
  },
  {
   "cell_type": "markdown",
   "id": "9236fec5-35a2-4124-907d-01280aa77656",
   "metadata": {},
   "source": [
    "## Data structures"
   ]
  },
  {
   "cell_type": "markdown",
   "id": "59cfab07-622a-4b39-9c6e-96aa521dc331",
   "metadata": {
    "tags": []
   },
   "source": [
    "### Input"
   ]
  },
  {
   "cell_type": "code",
   "execution_count": 27,
   "id": "6a60c8fd-0869-4e35-b802-3f178c2d6b8d",
   "metadata": {},
   "outputs": [
    {
     "data": {
      "text/html": [
       "<div>\n",
       "<style scoped>\n",
       "    .dataframe tbody tr th:only-of-type {\n",
       "        vertical-align: middle;\n",
       "    }\n",
       "\n",
       "    .dataframe tbody tr th {\n",
       "        vertical-align: top;\n",
       "    }\n",
       "\n",
       "    .dataframe thead th {\n",
       "        text-align: right;\n",
       "    }\n",
       "</style>\n",
       "<table border=\"1\" class=\"dataframe\">\n",
       "  <thead>\n",
       "    <tr style=\"text-align: right;\">\n",
       "      <th></th>\n",
       "      <th>clicks</th>\n",
       "      <th>person</th>\n",
       "    </tr>\n",
       "  </thead>\n",
       "  <tbody>\n",
       "    <tr>\n",
       "      <th>0</th>\n",
       "      <td>1</td>\n",
       "      <td>{'first_name': 'Michal', 'last_name': 'Zawadzki'}</td>\n",
       "    </tr>\n",
       "    <tr>\n",
       "      <th>1</th>\n",
       "      <td>2</td>\n",
       "      <td>{'first_name': 'Mateusz', 'last_name': 'Pazdzi...</td>\n",
       "    </tr>\n",
       "  </tbody>\n",
       "</table>\n",
       "</div>"
      ],
      "text/plain": [
       "   clicks                                             person\n",
       "0       1  {'first_name': 'Michal', 'last_name': 'Zawadzki'}\n",
       "1       2  {'first_name': 'Mateusz', 'last_name': 'Pazdzi..."
      ]
     },
     "execution_count": 27,
     "metadata": {},
     "output_type": "execute_result"
    }
   ],
   "source": [
    "import pandas as pd\n",
    "\n",
    "df = pd.DataFrame.from_dict({\"clicks\": [1, 2], \"person\": [{\"first_name\": \"Michal\", \"last_name\": \"Zawadzki\"}, {\"first_name\": \"Mateusz\", \"last_name\": \"Pazdzior\"}]})\n",
    "df.head()"
   ]
  },
  {
   "cell_type": "markdown",
   "id": "9b78383e-3d16-4f97-8647-9fa1ca576a39",
   "metadata": {},
   "source": [
    "### Output"
   ]
  },
  {
   "cell_type": "code",
   "execution_count": 32,
   "id": "3fbd41e7-352b-4125-bc83-100323306c70",
   "metadata": {
    "tags": []
   },
   "outputs": [
    {
     "data": {
      "text/html": [
       "<div>\n",
       "<style scoped>\n",
       "    .dataframe tbody tr th:only-of-type {\n",
       "        vertical-align: middle;\n",
       "    }\n",
       "\n",
       "    .dataframe tbody tr th {\n",
       "        vertical-align: top;\n",
       "    }\n",
       "\n",
       "    .dataframe thead th {\n",
       "        text-align: right;\n",
       "    }\n",
       "</style>\n",
       "<table border=\"1\" class=\"dataframe\">\n",
       "  <thead>\n",
       "    <tr style=\"text-align: right;\">\n",
       "      <th></th>\n",
       "      <th>clicks</th>\n",
       "      <th>first_name</th>\n",
       "      <th>last_name</th>\n",
       "    </tr>\n",
       "  </thead>\n",
       "  <tbody>\n",
       "    <tr>\n",
       "      <th>0</th>\n",
       "      <td>1</td>\n",
       "      <td>Michal</td>\n",
       "      <td>Zawadzki</td>\n",
       "    </tr>\n",
       "    <tr>\n",
       "      <th>1</th>\n",
       "      <td>2</td>\n",
       "      <td>Mateusz</td>\n",
       "      <td>Pazdzior</td>\n",
       "    </tr>\n",
       "  </tbody>\n",
       "</table>\n",
       "</div>"
      ],
      "text/plain": [
       "   clicks first_name last_name\n",
       "0       1     Michal  Zawadzki\n",
       "1       2    Mateusz  Pazdzior"
      ]
     },
     "execution_count": 32,
     "metadata": {},
     "output_type": "execute_result"
    }
   ],
   "source": [
    "df2"
   ]
  },
  {
   "cell_type": "markdown",
   "id": "aef2a2df-d3ca-49b7-8a31-0d3a140cb969",
   "metadata": {
    "tags": []
   },
   "source": [
    "### Solution"
   ]
  },
  {
   "cell_type": "code",
   "execution_count": null,
   "id": "6769259e-6b3f-4785-8964-87abe0c4c913",
   "metadata": {},
   "outputs": [],
   "source": []
  },
  {
   "cell_type": "markdown",
   "id": "1876dd6b-2956-46ed-8de2-6b38fdb87a12",
   "metadata": {},
   "source": [
    "Unhide to see the hint:"
   ]
  },
  {
   "cell_type": "markdown",
   "id": "8379306c-ec8b-4046-bc13-b5a7d61d2526",
   "metadata": {
    "jupyter": {
     "source_hidden": true
    },
    "tags": []
   },
   "source": [
    "<div class=\"alert alert-block alert-info\">Use `pd.json_normalize()`.</div>"
   ]
  },
  {
   "cell_type": "markdown",
   "id": "4715eb7b-cf20-4e42-ae54-d4de5881e54d",
   "metadata": {},
   "source": [
    "## Optimization"
   ]
  },
  {
   "cell_type": "markdown",
   "id": "8174f0cc-7634-439e-9287-61f57e74407a",
   "metadata": {},
   "source": [
    "Run below code, measure the time, and then write an optimized version that executes at least 20% faster.\n",
    "\n",
    "Below you can see the execution time on my machine for reference."
   ]
  },
  {
   "cell_type": "code",
   "execution_count": 1,
   "id": "6f1170fa-cf49-4ba9-a95e-0134c7e003d5",
   "metadata": {},
   "outputs": [
    {
     "name": "stdout",
     "output_type": "stream",
     "text": [
      "(30000000, 3)\n",
      "CPU times: user 56.3 s, sys: 13.9 s, total: 1min 10s\n",
      "Wall time: 1min 7s\n"
     ]
    },
    {
     "data": {
      "text/html": [
       "<div>\n",
       "<style scoped>\n",
       "    .dataframe tbody tr th:only-of-type {\n",
       "        vertical-align: middle;\n",
       "    }\n",
       "\n",
       "    .dataframe tbody tr th {\n",
       "        vertical-align: top;\n",
       "    }\n",
       "\n",
       "    .dataframe thead th {\n",
       "        text-align: right;\n",
       "    }\n",
       "</style>\n",
       "<table border=\"1\" class=\"dataframe\">\n",
       "  <thead>\n",
       "    <tr style=\"text-align: right;\">\n",
       "      <th></th>\n",
       "      <th>0</th>\n",
       "      <th>1</th>\n",
       "      <th>2</th>\n",
       "    </tr>\n",
       "  </thead>\n",
       "  <tbody>\n",
       "    <tr>\n",
       "      <th>0</th>\n",
       "      <td>foo</td>\n",
       "      <td>baz</td>\n",
       "      <td>foo</td>\n",
       "    </tr>\n",
       "    <tr>\n",
       "      <th>1</th>\n",
       "      <td>baz</td>\n",
       "      <td>foo</td>\n",
       "      <td>bar</td>\n",
       "    </tr>\n",
       "    <tr>\n",
       "      <th>2</th>\n",
       "      <td>baz</td>\n",
       "      <td>bar</td>\n",
       "      <td>foo</td>\n",
       "    </tr>\n",
       "    <tr>\n",
       "      <th>3</th>\n",
       "      <td>bar</td>\n",
       "      <td>bar</td>\n",
       "      <td>bar</td>\n",
       "    </tr>\n",
       "    <tr>\n",
       "      <th>4</th>\n",
       "      <td>baz</td>\n",
       "      <td>bar</td>\n",
       "      <td>bar</td>\n",
       "    </tr>\n",
       "  </tbody>\n",
       "</table>\n",
       "</div>"
      ],
      "text/plain": [
       "     0    1    2\n",
       "0  foo  baz  foo\n",
       "1  baz  foo  bar\n",
       "2  baz  bar  foo\n",
       "3  bar  bar  bar\n",
       "4  baz  bar  bar"
      ]
     },
     "execution_count": 1,
     "metadata": {},
     "output_type": "execute_result"
    }
   ],
   "source": [
    "%%time\n",
    "\n",
    "\n",
    "import pandas as pd\n",
    "import numpy as np\n",
    "\n",
    "df = pd.DataFrame(np.random.choice(['foo','bar','baz'], size=(0,3)))\n",
    "for i in range(30):\n",
    "    df_next = pd.DataFrame(np.random.choice(['foo','bar','baz'], size=(1000000,3)))\n",
    "    df = df.append(df_next)\n",
    "\n",
    "print(df.shape)\n",
    "df.head()"
   ]
  },
  {
   "cell_type": "code",
   "execution_count": null,
   "id": "99b3eb0e-9f91-4ebb-a059-fcc49b3d1492",
   "metadata": {},
   "outputs": [],
   "source": []
  }
 ],
 "metadata": {
  "kernelspec": {
   "display_name": "Python 3 (ipykernel)",
   "language": "python",
   "name": "python3"
  },
  "language_info": {
   "codemirror_mode": {
    "name": "ipython",
    "version": 3
   },
   "file_extension": ".py",
   "mimetype": "text/x-python",
   "name": "python",
   "nbconvert_exporter": "python",
   "pygments_lexer": "ipython3",
   "version": "3.8.12"
  },
  "toc-autonumbering": true,
  "toc-showtags": false
 },
 "nbformat": 4,
 "nbformat_minor": 5
}
