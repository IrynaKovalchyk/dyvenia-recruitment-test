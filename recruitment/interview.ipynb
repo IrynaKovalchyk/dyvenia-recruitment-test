{
 "cells": [
  {
   "cell_type": "markdown",
   "id": "a24f4609-28cc-4d2b-b271-1dd82456b48d",
   "metadata": {
    "tags": []
   },
   "source": [
    "## Dyvenia Recruitment - Technical Interview\n",
    "\n",
    "Welcome to the technical interview! <br>\n",
    "Here you can find a randomizer for your technical tasks. Make sure that type and level of tasks are correct. If not, please inform your recruiter.\n",
    "\n",
    "Please press the button to draw your tasks. "
   ]
  },
  {
   "cell_type": "code",
   "execution_count": 14,
   "id": "9fb4b9ee-957a-4520-afe4-be81769e9b79",
   "metadata": {},
   "outputs": [],
   "source": [
    "LEVEL = \"MID\"\n",
    "TYPE = \"SQL\"\n",
    "AMOUNT = 1"
   ]
  },
  {
   "cell_type": "code",
   "execution_count": 15,
   "id": "97baa199-4e0e-401a-9e18-50cad6090085",
   "metadata": {},
   "outputs": [
    {
     "data": {
      "application/vnd.jupyter.widget-view+json": {
       "model_id": "ed62d861860f4c62ac71e39ec8ac0437",
       "version_major": 2,
       "version_minor": 0
      },
      "text/plain": [
       "Button(description='Generate tasks for me!', layout=Layout(height='40px', width='auto'), style=ButtonStyle())"
      ]
     },
     "metadata": {},
     "output_type": "display_data"
    },
    {
     "data": {
      "application/vnd.jupyter.widget-view+json": {
       "model_id": "3774e659763d49cf8ea92d644e75fa54",
       "version_major": 2,
       "version_minor": 0
      },
      "text/plain": [
       "Output()"
      ]
     },
     "metadata": {},
     "output_type": "display_data"
    }
   ],
   "source": [
    "import sqlite3\n",
    "import random\n",
    "\n",
    "from IPython.display import display, Markdown, Latex\n",
    "import ipywidgets as widgets\n",
    "\n",
    "def connect_to_generator(task_level, task_type, amount):\n",
    "    con = sqlite3.connect('interview.db')\n",
    "    cur = con.cursor()\n",
    "    cur.execute(f\"SELECT * FROM Tasks WHERE LEVEL == '{task_level}' AND TYPE == '{task_type}'\")\n",
    "    tasks = cur.fetchall()\n",
    "    return random.sample(tasks, amount)\n",
    "\n",
    "layout = widgets.Layout(width='auto', height='40px')\n",
    "generate_tasks = widgets.Button(description = 'Generate tasks for me!',  layout = layout)\n",
    "display(generate_tasks)\n",
    "\n",
    "output = widgets.Output()\n",
    "\n",
    "@output.capture()\n",
    "def generate(arg): \n",
    "    generate_tasks.disabled = True\n",
    "    tasks = connect_to_generator(LEVEL, TYPE, AMOUNT)\n",
    "    [display(Markdown(f\"**Task {index+1}.** <br> {task[2]} <br>\")) for index, task in enumerate(tasks)]\n",
    "\n",
    "\n",
    "\n",
    "generate_tasks.on_click(generate)\n",
    "display(output)"
   ]
  },
  {
   "cell_type": "code",
   "execution_count": null,
   "id": "f202c2b4-5d92-4ad0-bf20-c01be4e86425",
   "metadata": {},
   "outputs": [],
   "source": []
  }
 ],
 "metadata": {
  "kernelspec": {
   "display_name": "Python 3 (ipykernel)",
   "language": "python",
   "name": "python3"
  },
  "language_info": {
   "codemirror_mode": {
    "name": "ipython",
    "version": 3
   },
   "file_extension": ".py",
   "mimetype": "text/x-python",
   "name": "python",
   "nbconvert_exporter": "python",
   "pygments_lexer": "ipython3",
   "version": "3.8.12"
  }
 },
 "nbformat": 4,
 "nbformat_minor": 5
}
